{
 "cells": [
  {
   "cell_type": "code",
   "execution_count": null,
   "metadata": {},
   "outputs": [],
   "source": [
    "import os\n",
    "from codelens.parser import build_fs"
   ]
  },
  {
   "cell_type": "code",
   "execution_count": null,
   "metadata": {},
   "outputs": [
    {
     "name": "stdout",
     "output_type": "stream",
     "text": [
      "Package: CodeLens\n",
      "    - main.py\n",
      "    Package: src\n",
      "        - package.py\n",
      "        - __init__.py\n",
      "        - visualization.py\n",
      "        Package: parser\n",
      "            - fs_folder.py\n",
      "            - __init__.py\n",
      "            - fs_module.py\n",
      "        - obj.py\n",
      "        - module.py\n",
      "\n"
     ]
    }
   ],
   "source": [
    "folder_path = \".\"  # Replace with your folder path\n",
    "if os.path.exists(folder_path):\n",
    "    root_package = build_fs(folder_path, parse_module=True)\n",
    "    print(root_package)\n",
    "else:\n",
    "    print(f\"The folder path '{folder_path}' does not exist.\")"
   ]
  },
  {
   "cell_type": "code",
   "execution_count": 4,
   "metadata": {},
   "outputs": [
    {
     "name": "stdout",
     "output_type": "stream",
     "text": [
      "╒════════════════════╤══════════════════════════════════════════════════════════════════════════════════════════════════╤═══════════════════════════════════════════════════════════════════════════════╕\n",
      "│ Type               │ Code                                                                                             │ Extra Info                                                                    │\n",
      "╞════════════════════╪══════════════════════════════════════════════════════════════════════════════════════════════════╪═══════════════════════════════════════════════════════════════════════════════╡\n",
      "│ Imports            │                                                                                                  │                                                                               │\n",
      "├────────────────────┼──────────────────────────────────────────────────────────────────────────────────────────────────┼───────────────────────────────────────────────────────────────────────────────┤\n",
      "│ Class_Package      │                                                                                                  │ Docstring:                                                                    │\n",
      "│                    │                                                                                                  │ None                                                                          │\n",
      "│                    │                                                                                                  │ Num_Methods: 5                                                                │\n",
      "├────────────────────┼──────────────────────────────────────────────────────────────────────────────────────────────────┼───────────────────────────────────────────────────────────────────────────────┤\n",
      "│ Method___init__    │ def __init__(self, path, parent=None):                                                           │ Docstring:                                                                    │\n",
      "│                    │         \"\"\"                                                                                      │ Represents a folder in the file structure.                                    │\n",
      "│                    │         Represents a folder in the file structure.                                               │                                                                               │\n",
      "│                    │                                                                                                  │ Args:                                                                         │\n",
      "│                    │         Args:                                                                                    │     name (str): The name of the folder.                                       │\n",
      "│                    │             name (str): The name of the folder.                                                  │     parent (Package, optional): The parent Package object. Defaults to None.  │\n",
      "│                    │             parent (Package, optional): The parent Package object. Defaults to None.             │                                                                               │\n",
      "│                    │         \"\"\"                                                                                      │                                                                               │\n",
      "│                    │         self.path = path                                                                         │                                                                               │\n",
      "│                    │         self.parent = parent                                                                     │                                                                               │\n",
      "│                    │         self.children = []  # List of child Packages or Modules                                  │                                                                               │\n",
      "├────────────────────┼──────────────────────────────────────────────────────────────────────────────────────────────────┼───────────────────────────────────────────────────────────────────────────────┤\n",
      "│ Method___getitem__ │ def __getitem__(self, index):                                                                    │ Docstring:                                                                    │\n",
      "│                    │         return self.children[index]                                                              │ None                                                                          │\n",
      "├────────────────────┼──────────────────────────────────────────────────────────────────────────────────────────────────┼───────────────────────────────────────────────────────────────────────────────┤\n",
      "│ Method_name        │ def name(self):                                                                                  │ Docstring:                                                                    │\n",
      "│                    │         return self.path.split('/')[-1]                                                          │ None                                                                          │\n",
      "├────────────────────┼──────────────────────────────────────────────────────────────────────────────────────────────────┼───────────────────────────────────────────────────────────────────────────────┤\n",
      "│ Method_add_child   │ def add_child(self, child):                                                                      │ Docstring:                                                                    │\n",
      "│                    │         \"\"\"Adds a child (Package or Module) to the current Package.\"\"\"                           │ Adds a child (Package or Module) to the current Package.                      │\n",
      "│                    │         self.children.append(child)                                                              │                                                                               │\n",
      "├────────────────────┼──────────────────────────────────────────────────────────────────────────────────────────────────┼───────────────────────────────────────────────────────────────────────────────┤\n",
      "│ Method___str__     │ def __str__(self, indent=0):                                                                     │ Docstring:                                                                    │\n",
      "│                    │         \"\"\"                                                                                      │ Returns a string representation of the Package, showing only direct children. │\n",
      "│                    │         Returns a string representation of the Package, showing only direct children.            │                                                                               │\n",
      "│                    │                                                                                                  │ Returns:                                                                      │\n",
      "│                    │         Returns:                                                                                 │     str: The name of the package and its direct children.                     │\n",
      "│                    │             str: The name of the package and its direct children.                                │                                                                               │\n",
      "│                    │         \"\"\"                                                                                      │                                                                               │\n",
      "│                    │         result = \" \" * indent + f\"Package: {self.name}\\n\"                                        │                                                                               │\n",
      "│                    │         for child in self.children:                                                              │                                                                               │\n",
      "│                    │             if isinstance(child, Package):                                                       │                                                                               │\n",
      "│                    │                 result += child.__str__(indent + 4)  # Recursive call with increased indentation │                                                                               │\n",
      "│                    │             else:                                                                                │                                                                               │\n",
      "│                    │                 result += \" \" * (indent + 4) + f\"- {child.name}\\n\"                               │                                                                               │\n",
      "│                    │         return result                                                                            │                                                                               │\n",
      "╘════════════════════╧══════════════════════════════════════════════════════════════════════════════════════════════════╧═══════════════════════════════════════════════════════════════════════════════╛\n"
     ]
    }
   ],
   "source": [
    "root_package[1][0].view()"
   ]
  },
  {
   "cell_type": "code",
   "execution_count": null,
   "metadata": {},
   "outputs": [],
   "source": []
  }
 ],
 "metadata": {
  "kernelspec": {
   "display_name": "Python 3",
   "language": "python",
   "name": "python3"
  },
  "language_info": {
   "codemirror_mode": {
    "name": "ipython",
    "version": 3
   },
   "file_extension": ".py",
   "mimetype": "text/x-python",
   "name": "python",
   "nbconvert_exporter": "python",
   "pygments_lexer": "ipython3",
   "version": "3.9.6"
  }
 },
 "nbformat": 4,
 "nbformat_minor": 2
}
